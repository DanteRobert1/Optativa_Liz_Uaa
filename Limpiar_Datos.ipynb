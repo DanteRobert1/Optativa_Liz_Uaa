{
  "nbformat": 4,
  "nbformat_minor": 0,
  "metadata": {
    "colab": {
      "provenance": [],
      "authorship_tag": "ABX9TyPwnfM8p96Zs8HSlZaYMASt",
      "include_colab_link": true
    },
    "kernelspec": {
      "name": "python3",
      "display_name": "Python 3"
    },
    "language_info": {
      "name": "python"
    }
  },
  "cells": [
    {
      "cell_type": "markdown",
      "metadata": {
        "id": "view-in-github",
        "colab_type": "text"
      },
      "source": [
        "<a href=\"https://colab.research.google.com/github/DanteRobert1/Optativa_Liz_Uaa/blob/main/Limpiar_Datos.ipynb\" target=\"_parent\"><img src=\"https://colab.research.google.com/assets/colab-badge.svg\" alt=\"Open In Colab\"/></a>"
      ]
    },
    {
      "cell_type": "markdown",
      "source": [
        "**NumPy: Libreria Funda,mental paraq Computacion Cientifica de Python **"
      ],
      "metadata": {
        "id": "S6PK_CEDobI2"
      }
    },
    {
      "cell_type": "code",
      "execution_count": 2,
      "metadata": {
        "id": "6g5qbcW1oZGV"
      },
      "outputs": [],
      "source": [
        "import pandas as pd\n",
        "import numpy as np"
      ]
    },
    {
      "cell_type": "markdown",
      "source": [
        "Crar un DataFrame con datos sucios\n"
      ],
      "metadata": {
        "id": "3DmwvNS_oaA0"
      }
    },
    {
      "cell_type": "code",
      "source": [
        "df = pd.DataFrame({\n",
        "    'A': [1,2, np.nan, 4, 5],\n",
        "    'B': [5,6,7, np.nan, 9],\n",
        "    'C': ['a', 'b', 'c', 'd', 'e'],\n",
        "    'D': ['foor', 'bar', 'foo', 'bar', 'foo']\n",
        "})\n",
        "print(\"DataFrame orignal\")\n",
        "print(df)"
      ],
      "metadata": {
        "colab": {
          "base_uri": "https://localhost:8080/"
        },
        "id": "JJBgOWqDo4WZ",
        "outputId": "9f6cb65a-7cd4-4a19-d805-102540b78d59"
      },
      "execution_count": 3,
      "outputs": [
        {
          "output_type": "stream",
          "name": "stdout",
          "text": [
            "DataFrame orignal\n",
            "     A    B  C     D\n",
            "0  1.0  5.0  a  foor\n",
            "1  2.0  6.0  b   bar\n",
            "2  NaN  7.0  c   foo\n",
            "3  4.0  NaN  d   bar\n",
            "4  5.0  9.0  e   foo\n"
          ]
        }
      ]
    },
    {
      "cell_type": "markdown",
      "source": [
        "Eliminar valores nules"
      ],
      "metadata": {
        "id": "IOUH1DWcqUYb"
      }
    },
    {
      "cell_type": "code",
      "source": [
        "df_clean = df.dropna()\n",
        "print(\"\\nDataFrame sin filas nulas\")\n",
        "print(df_clean)"
      ],
      "metadata": {
        "colab": {
          "base_uri": "https://localhost:8080/"
        },
        "id": "OnUWPnnoqYWL",
        "outputId": "0809e8f9-84b5-4186-b7b7-cdc70efa95e8"
      },
      "execution_count": 4,
      "outputs": [
        {
          "output_type": "stream",
          "name": "stdout",
          "text": [
            "\n",
            "DataFrame sin filas nulas\n",
            "     A    B  C     D\n",
            "0  1.0  5.0  a  foor\n",
            "1  2.0  6.0  b   bar\n",
            "4  5.0  9.0  e   foo\n"
          ]
        }
      ]
    },
    {
      "cell_type": "markdown",
      "source": [
        "Rellenar Valores Nulos"
      ],
      "metadata": {
        "id": "jCH2fcLXrLXc"
      }
    },
    {
      "cell_type": "code",
      "source": [
        "df_filled = df.fillna(value={'A': df['A'].mean(), 'B': df['B'].median()})\n",
        "print(\"\\nDataFrame con valores nulos rellenados\")\n",
        "print(df_filled)"
      ],
      "metadata": {
        "colab": {
          "base_uri": "https://localhost:8080/"
        },
        "id": "C9P-sJJ_rNQM",
        "outputId": "12df44fc-d0cf-4abc-b30f-719bb13249b0"
      },
      "execution_count": 5,
      "outputs": [
        {
          "output_type": "stream",
          "name": "stdout",
          "text": [
            "\n",
            "DataFrame con valores nulos rellenados\n",
            "     A    B  C     D\n",
            "0  1.0  5.0  a  foor\n",
            "1  2.0  6.0  b   bar\n",
            "2  3.0  7.0  c   foo\n",
            "3  4.0  6.5  d   bar\n",
            "4  5.0  9.0  e   foo\n"
          ]
        }
      ]
    },
    {
      "cell_type": "markdown",
      "source": [
        "Eliminar duplicado"
      ],
      "metadata": {
        "id": "L5YEQJjisXSi"
      }
    },
    {
      "cell_type": "code",
      "source": [
        "df_no_duplicates = df.drop_duplicates(subset='D')\n",
        "print(\"\\nDataFrame sin duplicados en la columna D\")\n",
        "print(df_no_duplicates)"
      ],
      "metadata": {
        "colab": {
          "base_uri": "https://localhost:8080/"
        },
        "id": "OnzKTznWsaIK",
        "outputId": "8c4b33d3-683d-450f-ecc4-665d4a7a7431"
      },
      "execution_count": 6,
      "outputs": [
        {
          "output_type": "stream",
          "name": "stdout",
          "text": [
            "\n",
            "DataFrame sin duplicados en la columna D\n",
            "     A    B  C     D\n",
            "0  1.0  5.0  a  foor\n",
            "1  2.0  6.0  b   bar\n",
            "2  NaN  7.0  c   foo\n"
          ]
        }
      ]
    },
    {
      "cell_type": "markdown",
      "source": [
        "Renombrar Columnas"
      ],
      "metadata": {
        "id": "Wo17EqG5uhVp"
      }
    },
    {
      "cell_type": "code",
      "source": [
        "df_renamed = df.rename(columns={'A': 'Alpha', 'B': 'Beta'\n",
        "                                , 'C': 'Gamma', 'D': 'Delta'\n",
        "})\n",
        "print(\"\\nDataFrame con columnas renombradas\")\n",
        "print(df_renamed)"
      ],
      "metadata": {
        "colab": {
          "base_uri": "https://localhost:8080/"
        },
        "id": "xH1PNknGunZV",
        "outputId": "708750fe-36b3-48ce-d2b5-1daca398e9ad"
      },
      "execution_count": 7,
      "outputs": [
        {
          "output_type": "stream",
          "name": "stdout",
          "text": [
            "\n",
            "DataFrame con columnas renombradas\n",
            "   Alpha  Beta Gamma Delta\n",
            "0    1.0   5.0     a  foor\n",
            "1    2.0   6.0     b   bar\n",
            "2    NaN   7.0     c   foo\n",
            "3    4.0   NaN     d   bar\n",
            "4    5.0   9.0     e   foo\n"
          ]
        }
      ]
    }
  ]
}