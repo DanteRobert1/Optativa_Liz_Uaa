{
  "nbformat": 4,
  "nbformat_minor": 0,
  "metadata": {
    "colab": {
      "provenance": [],
      "authorship_tag": "ABX9TyP0LW5wXju96N67rm2JNTPM",
      "include_colab_link": true
    },
    "kernelspec": {
      "name": "python3",
      "display_name": "Python 3"
    },
    "language_info": {
      "name": "python"
    }
  },
  "cells": [
    {
      "cell_type": "markdown",
      "metadata": {
        "id": "view-in-github",
        "colab_type": "text"
      },
      "source": [
        "<a href=\"https://colab.research.google.com/github/DanteRobert1/Optativa_Liz_Uaa/blob/main/Uniones.ipynb\" target=\"_parent\"><img src=\"https://colab.research.google.com/assets/colab-badge.svg\" alt=\"Open In Colab\"/></a>"
      ]
    },
    {
      "cell_type": "markdown",
      "source": [],
      "metadata": {
        "id": "LVZjoRe6xxaw"
      }
    },
    {
      "cell_type": "code",
      "execution_count": 2,
      "metadata": {
        "id": "aeZhF-IXwAPT"
      },
      "outputs": [],
      "source": [
        "import pandas as pd"
      ]
    },
    {
      "cell_type": "markdown",
      "source": [
        "Dos Datas Frames"
      ],
      "metadata": {
        "id": "0ZFJDT3dyF7k"
      }
    },
    {
      "cell_type": "code",
      "source": [
        "df1 = pd.DataFrame({\n",
        "    'ID': [1, 2, 3, 4],\n",
        "    'Nombre': ['Ana', 'Juan', 'Maria', 'Carlos'],\n",
        "    'Departamento': ['Ventas', 'IT', 'Marketing','RH'],\n",
        "})\n",
        "\n",
        "df2 = pd.DataFrame({\n",
        "    'ID': [3, 4, 5, 6],\n",
        "    'Salario': [50000, 60000,55000,65000],\n",
        "})\n",
        "\n",
        "print(\"\\nDataFrame1\",df1)\n",
        "print(\"\\nDataFrame1\",df2)"
      ],
      "metadata": {
        "colab": {
          "base_uri": "https://localhost:8080/"
        },
        "id": "VlTUE4x8yNAw",
        "outputId": "e7cadc19-a53d-4629-a8db-9216a8e9db8d"
      },
      "execution_count": 5,
      "outputs": [
        {
          "output_type": "stream",
          "name": "stdout",
          "text": [
            "\n",
            "DataFrame1    ID  Nombre Departamento\n",
            "0   1     Ana       Ventas\n",
            "1   2    Juan           IT\n",
            "2   3   Maria    Marketing\n",
            "3   4  Carlos           RH\n",
            "\n",
            "DataFrame1    ID  Salario\n",
            "0   3    50000\n",
            "1   4    60000\n",
            "2   5    55000\n",
            "3   6    65000\n"
          ]
        }
      ]
    },
    {
      "cell_type": "markdown",
      "source": [
        "Fusion Inner"
      ],
      "metadata": {
        "id": "0F15CsQaziz5"
      }
    },
    {
      "cell_type": "code",
      "source": [
        "inner_merge = pd.merge(df1, df2, on='ID', how='inner')\n",
        "print(\"\\nFusion Inner\")\n",
        "print(inner_merge)"
      ],
      "metadata": {
        "colab": {
          "base_uri": "https://localhost:8080/"
        },
        "id": "GUddXgDVzmZo",
        "outputId": "2d8583f0-5010-437c-90a2-b58a970826bd"
      },
      "execution_count": 6,
      "outputs": [
        {
          "output_type": "stream",
          "name": "stdout",
          "text": [
            "\n",
            "Fusion Inner\n",
            "   ID  Nombre Departamento  Salario\n",
            "0   3   Maria    Marketing    50000\n",
            "1   4  Carlos           RH    60000\n"
          ]
        }
      ]
    },
    {
      "cell_type": "markdown",
      "source": [
        "Fusion Outer"
      ],
      "metadata": {
        "id": "2GSJPwRW0Y3P"
      }
    },
    {
      "cell_type": "code",
      "source": [
        "outer_merge = pd.merge(df1, df2, on='ID', how='outer')\n",
        "print(\"\\nFusion Outer\")\n",
        "print(outer_merge)"
      ],
      "metadata": {
        "colab": {
          "base_uri": "https://localhost:8080/"
        },
        "id": "DKiEYkrX0ali",
        "outputId": "1bbe36f3-9e71-4ee0-bb43-ae9063488131"
      },
      "execution_count": 7,
      "outputs": [
        {
          "output_type": "stream",
          "name": "stdout",
          "text": [
            "\n",
            "Fusion Outer\n",
            "   ID  Nombre Departamento  Salario\n",
            "0   1     Ana       Ventas      NaN\n",
            "1   2    Juan           IT      NaN\n",
            "2   3   Maria    Marketing  50000.0\n",
            "3   4  Carlos           RH  60000.0\n",
            "4   5     NaN          NaN  55000.0\n",
            "5   6     NaN          NaN  65000.0\n"
          ]
        }
      ]
    },
    {
      "cell_type": "markdown",
      "source": [
        "Fusion Left"
      ],
      "metadata": {
        "id": "571M3mbi03xC"
      }
    },
    {
      "cell_type": "code",
      "source": [
        "left_merge = pd.merge(df1, df2, on='ID', how='left')\n",
        "print(\"\\nFusion Left\")\n",
        "print(left_merge)"
      ],
      "metadata": {
        "colab": {
          "base_uri": "https://localhost:8080/"
        },
        "id": "IzzAhcE405yG",
        "outputId": "066daee0-4cf5-4c23-9715-55c00d1281e2"
      },
      "execution_count": 10,
      "outputs": [
        {
          "output_type": "stream",
          "name": "stdout",
          "text": [
            "\n",
            "Fusion Left\n",
            "   ID  Nombre Departamento  Salario\n",
            "0   1     Ana       Ventas      NaN\n",
            "1   2    Juan           IT      NaN\n",
            "2   3   Maria    Marketing  50000.0\n",
            "3   4  Carlos           RH  60000.0\n"
          ]
        }
      ]
    },
    {
      "cell_type": "markdown",
      "source": [
        "Fusion Right"
      ],
      "metadata": {
        "id": "ohpRvG331Xde"
      }
    },
    {
      "cell_type": "code",
      "source": [
        "right_merge = pd.merge(df1, df2, on='ID', how='right')\n",
        "print(\"\\nFusion Right\")\n",
        "print(right_merge)"
      ],
      "metadata": {
        "colab": {
          "base_uri": "https://localhost:8080/"
        },
        "id": "YtumiKxV1aDr",
        "outputId": "c01def0d-c39f-4834-b197-3d6f88ec40a7"
      },
      "execution_count": 11,
      "outputs": [
        {
          "output_type": "stream",
          "name": "stdout",
          "text": [
            "\n",
            "Fusion Right\n",
            "   ID  Nombre Departamento  Salario\n",
            "0   3   Maria    Marketing    50000\n",
            "1   4  Carlos           RH    60000\n",
            "2   5     NaN          NaN    55000\n",
            "3   6     NaN          NaN    65000\n"
          ]
        }
      ]
    },
    {
      "cell_type": "markdown",
      "source": [
        "Concatenacion"
      ],
      "metadata": {
        "id": "dr-euQtD1oHw"
      }
    },
    {
      "cell_type": "code",
      "source": [
        "df3 = pd.DataFrame({\n",
        "    'ID': [7,8],\n",
        "    'Nombre': ['Sofia', 'Pedro'],\n",
        "    'Departamento': ['Finanzas', 'Ventas'],\n",
        "})\n",
        "concatenated_df = pd.concat([df1, df3])\n",
        "print(\"\\nConcatenacion de DataFrames\")\n",
        "print(concatenated_df)"
      ],
      "metadata": {
        "colab": {
          "base_uri": "https://localhost:8080/"
        },
        "id": "QZPws1Ob1pPA",
        "outputId": "456469b0-8ac8-4588-9362-e56132c7fc2c"
      },
      "execution_count": 12,
      "outputs": [
        {
          "output_type": "stream",
          "name": "stdout",
          "text": [
            "\n",
            "Concatenacion de DataFrames\n",
            "   ID  Nombre Departamento\n",
            "0   1     Ana       Ventas\n",
            "1   2    Juan           IT\n",
            "2   3   Maria    Marketing\n",
            "3   4  Carlos           RH\n",
            "0   7   Sofia     Finanzas\n",
            "1   8   Pedro       Ventas\n"
          ]
        }
      ]
    },
    {
      "cell_type": "markdown",
      "source": [],
      "metadata": {
        "id": "rW-PGW-I2sC1"
      }
    },
    {
      "cell_type": "code",
      "source": [],
      "metadata": {
        "id": "4wAWtEh92d1x"
      },
      "execution_count": null,
      "outputs": []
    }
  ]
}