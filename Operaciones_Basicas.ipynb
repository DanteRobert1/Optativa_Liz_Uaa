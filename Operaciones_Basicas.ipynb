{
  "nbformat": 4,
  "nbformat_minor": 0,
  "metadata": {
    "colab": {
      "provenance": [],
      "authorship_tag": "ABX9TyM/BVR6ehlcgPe23KtdGzEX",
      "include_colab_link": true
    },
    "kernelspec": {
      "name": "python3",
      "display_name": "Python 3"
    },
    "language_info": {
      "name": "python"
    }
  },
  "cells": [
    {
      "cell_type": "markdown",
      "metadata": {
        "id": "view-in-github",
        "colab_type": "text"
      },
      "source": [
        "<a href=\"https://colab.research.google.com/github/DanteRobert1/Optativa_Liz_Uaa/blob/main/Operaciones_Basicas.ipynb\" target=\"_parent\"><img src=\"https://colab.research.google.com/assets/colab-badge.svg\" alt=\"Open In Colab\"/></a>"
      ]
    },
    {
      "cell_type": "code",
      "execution_count": 1,
      "metadata": {
        "id": "3A6Lzbicvf7V"
      },
      "outputs": [],
      "source": [
        "import pandas as pd\n",
        "import numpy as np"
      ]
    },
    {
      "cell_type": "code",
      "source": [
        "df = pd.DataFrame({\n",
        "    'Nombre':['Ana','Juan','Maria','Carlos','Sofia'],\n",
        "    'Edad':[25,30,22,28,35],\n",
        "    'Ciudad':['Madrid','Barcelona','Madrid','Valencia','Barcelona'],\n",
        "    'Puntuacion':[85,92,78,95,88]\n",
        "})\n",
        "\n",
        "print(\"DataFrame Original\")\n",
        "print(df)"
      ],
      "metadata": {
        "colab": {
          "base_uri": "https://localhost:8080/"
        },
        "id": "0mL4sTvFvppq",
        "outputId": "0d9b80ec-2f49-4c7a-a410-5183f8fe1ede"
      },
      "execution_count": 2,
      "outputs": [
        {
          "output_type": "stream",
          "name": "stdout",
          "text": [
            "DataFrame Original\n",
            "   Nombre  Edad     Ciudad  Puntuacion\n",
            "0     Ana    25     Madrid          85\n",
            "1    Juan    30  Barcelona          92\n",
            "2   Maria    22     Madrid          78\n",
            "3  Carlos    28   Valencia          95\n",
            "4   Sofia    35  Barcelona          88\n"
          ]
        }
      ]
    },
    {
      "cell_type": "markdown",
      "source": [
        "Filtrado"
      ],
      "metadata": {
        "id": "f4Jp23iiwm0H"
      }
    },
    {
      "cell_type": "code",
      "source": [
        "mayores_25 = df[df['Edad'] > 25]\n",
        "print(\"\\nPersonas con edad mayor a 25\")\n",
        "print(mayores_25)"
      ],
      "metadata": {
        "colab": {
          "base_uri": "https://localhost:8080/"
        },
        "id": "XMIuCV3Swpmr",
        "outputId": "9bdb9817-52c5-4519-89e2-76bcd5c176b6"
      },
      "execution_count": 3,
      "outputs": [
        {
          "output_type": "stream",
          "name": "stdout",
          "text": [
            "\n",
            "Personas con edad mayor a 25\n",
            "   Nombre  Edad     Ciudad  Puntuacion\n",
            "1    Juan    30  Barcelona          92\n",
            "3  Carlos    28   Valencia          95\n",
            "4   Sofia    35  Barcelona          88\n"
          ]
        }
      ]
    },
    {
      "cell_type": "markdown",
      "source": [
        "Agrupacion y Agregacion\n"
      ],
      "metadata": {
        "id": "LOfLwcKzxNrM"
      }
    },
    {
      "cell_type": "code",
      "source": [
        "resultado = df[df['Edad'] > 25]. groupby('Ciudad')['Puntuacion'].max()\n",
        "print(\"\\nCiudad con mayor puntaje de personas con edad mayor a 25\")\n",
        "print(resultado)"
      ],
      "metadata": {
        "colab": {
          "base_uri": "https://localhost:8080/"
        },
        "id": "ft08oSb4xT6a",
        "outputId": "a7776f9d-1687-4635-a7f9-b92bdb26adfa"
      },
      "execution_count": 4,
      "outputs": [
        {
          "output_type": "stream",
          "name": "stdout",
          "text": [
            "\n",
            "Ciudad con mayor puntaje de personas con edad mayor a 25\n",
            "Ciudad\n",
            "Barcelona    92\n",
            "Valencia     95\n",
            "Name: Puntuacion, dtype: int64\n"
          ]
        }
      ]
    },
    {
      "cell_type": "markdown",
      "source": [],
      "metadata": {
        "id": "g50zBxWOyUHX"
      }
    }
  ]
}